{
  "nbformat": 4,
  "nbformat_minor": 0,
  "metadata": {
    "colab": {
      "name": "Untitled0.ipynb",
      "provenance": [],
      "authorship_tag": "ABX9TyNOmVwlim8k3W6megjSmmWq",
      "include_colab_link": true
    },
    "kernelspec": {
      "name": "python3",
      "display_name": "Python 3"
    },
    "language_info": {
      "name": "python"
    }
  },
  "cells": [
    {
      "cell_type": "markdown",
      "metadata": {
        "id": "view-in-github",
        "colab_type": "text"
      },
      "source": [
        "<a href=\"https://colab.research.google.com/github/Srinadhchinna191519/tony-stark/blob/main/Untitled0.ipynb\" target=\"_parent\"><img src=\"https://colab.research.google.com/assets/colab-badge.svg\" alt=\"Open In Colab\"/></a>"
      ]
    },
    {
      "cell_type": "code",
      "metadata": {
        "colab": {
          "base_uri": "https://localhost:8080/"
        },
        "id": "5gRelRN9vEsR",
        "outputId": "4062084b-0f21-480c-890c-ce8f4738171e"
      },
      "source": [
        "Height=float(input(\"Enter your height in centimeters: \")) \n",
        "Weight=float(input(\"Enter your weight in kg: \")) \n",
        "Height =  Height/100\n",
        "BMI=Weight/(Height*Height) \n",
        "print(\" your Body Mass Index is: \", BMI) \n",
        "if(BMI>0):\n",
        "   if(BMI<=16):\n",
        "         print(\"you are severely underweight\") \n",
        "   elif(BMI<=18.5):\n",
        "          print(\"you are underweight\") \n",
        "   elif(BMI<=25):\n",
        "           print(\"you are healthy\") \n",
        "   elif(BMI<=30):\n",
        "           print(\"you are overweight\")\n",
        "   else: print(\"you are severely overweight\")"
      ],
      "execution_count": 24,
      "outputs": [
        {
          "output_type": "stream",
          "text": [
            "Enter your height in centimeters: 15\n",
            "Enter your weight in kg: 50\n",
            " your Body Mass Index is:  2222.222222222222\n",
            "you are severely overweight\n"
          ],
          "name": "stdout"
        }
      ]
    }
  ]
}